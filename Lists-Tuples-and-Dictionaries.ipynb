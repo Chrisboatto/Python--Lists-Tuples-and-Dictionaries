{
 "cells": [
  {
   "cell_type": "markdown",
   "metadata": {},
   "source": [
    "CIND830\n",
    "Python Programming for Data Science\n",
    "Lab 5 - Questions"
   ]
  },
  {
   "cell_type": "markdown",
   "metadata": {},
   "source": [
    "1 List"
   ]
  },
  {
   "cell_type": "markdown",
   "metadata": {},
   "source": [
    "Given the following structure, match each code on the left with its correct output on the right.\n",
    "\n",
    "listData = [[[1, 2], [3, 4], 5], 6, [5, [4, 3], [2, 1]]]"
   ]
  },
  {
   "cell_type": "markdown",
   "metadata": {},
   "source": [
    "Code1. listData[1] \n",
    "Code2. listData[0 : 1] \n",
    "Code3. listData[0][1] \n",
    "Code4. listData[1]+listData[0][2]\n",
    "Code5. listData[0][0]+listData[0][1] \n",
    "Code6. listData[0][1][0]*listData[0][1] \n",
    "\n",
    "\n",
    "Output1. [3, 4]\n",
    "Output2. [3, 4, 3, 4, 3, 4]\n",
    "Output3. [[[1, 2], [3, 4], 5]]\n",
    "Output4. [1, 2, 3, 4]\n",
    "Output5. 6\n",
    "Output6. 11"
   ]
  },
  {
   "cell_type": "code",
   "execution_count": 5,
   "metadata": {},
   "outputs": [
    {
     "name": "stdout",
     "output_type": "stream",
     "text": [
      "6\n",
      "[[[1, 2], [3, 4], 5]]\n",
      "[3, 4]\n",
      "11\n",
      "[1, 2, 3, 4]\n",
      "[3, 4, 3, 4, 3, 4]\n"
     ]
    }
   ],
   "source": [
    "listData = [[[1, 2], [3, 4], 5], 6, [5, [4, 3], [2, 1]]]\n",
    "\n",
    "print(listData[1]) #Output5\n",
    "print(listData[0:1]) #Output3\n",
    "print(listData[0][1]) #Output1\n",
    "print(listData[1] + listData[0][2]) #Output6\n",
    "print(listData[0][0] + listData[0][1]) #Output4\n",
    "print(listData[0][1][0] * listData[0][1]) #Output2"
   ]
  },
  {
   "cell_type": "markdown",
   "metadata": {},
   "source": [
    "2 Tuples"
   ]
  },
  {
   "cell_type": "markdown",
   "metadata": {},
   "source": [
    "Given the following structure, match each code on the left with its correct output on the right."
   ]
  },
  {
   "cell_type": "code",
   "execution_count": 7,
   "metadata": {},
   "outputs": [],
   "source": [
    "tupleData = ((0, None), (1, 4), (2, 3))"
   ]
  },
  {
   "cell_type": "markdown",
   "metadata": {},
   "source": [
    "Code1. max(tupleData[1])\n",
    "Code2. min(tupleData) \n",
    "Code3. sum(tupleData[1]) \n",
    "Code4. len(tupleData) \n",
    "Code5. any(tupleData[0]) \n",
    "Code6. all(tupleData) \n",
    "\n",
    "Output1. 3\n",
    "Output2. 4\n",
    "Output3. False\n",
    "Output4. (0, None)\n",
    "Output5. True\n",
    "Output6. 5"
   ]
  },
  {
   "cell_type": "code",
   "execution_count": 10,
   "metadata": {},
   "outputs": [
    {
     "name": "stdout",
     "output_type": "stream",
     "text": [
      "4\n",
      "(0, None)\n",
      "5\n",
      "3\n",
      "False\n",
      "True\n"
     ]
    }
   ],
   "source": [
    "print(max(tupleData[1])) #Output2\n",
    "print(min(tupleData))    #Output4\n",
    "print(sum(tupleData[1])) #Output6\n",
    "print(len(tupleData))    #Output1\n",
    "print(any(tupleData[0])) #Output4\n",
    "print(all(tupleData))    #Output5"
   ]
  },
  {
   "cell_type": "markdown",
   "metadata": {},
   "source": [
    "3 Dictionaries"
   ]
  },
  {
   "cell_type": "markdown",
   "metadata": {},
   "source": [
    "Given the following structure, match each code on the left with its correct output on the right"
   ]
  },
  {
   "cell_type": "code",
   "execution_count": 11,
   "metadata": {},
   "outputs": [],
   "source": [
    "dict1 = {'Address':'Ontario',\\\n",
    "'Name':'Harry',\\\n",
    "'Subject': ('CIND830', 4.1)}\n",
    "dict2 = {'Address':{'Province': 'Quebec'},\\\n",
    "'Name':['Sally', 'Harry'],\\\n",
    "'Subject': ['CIND830', 4.1]}\n",
    "dict3 = dict2"
   ]
  },
  {
   "cell_type": "markdown",
   "metadata": {},
   "source": [
    "Code1. dict2['Name'] \n",
    "Code2. dict3.get('Province') \n",
    "Code3. list(dict1.items())[0] \n",
    "Code4. len(dict1['Name']) \n",
    "Code5. dict1['Subject'] is dict3['Subject'] \n",
    "Code6. dict3['Address']+ dict1['Address'] \n",
    "\n",
    "\n",
    "Output1. (‘Address’, ‘Ontario’)\n",
    "Output2. TypeError\n",
    "Output3. [‘Sally’, ‘Harry’]\n",
    "Output4. 5\n",
    "Output5. None\n",
    "Output6. False"
   ]
  },
  {
   "cell_type": "code",
   "execution_count": 14,
   "metadata": {},
   "outputs": [
    {
     "name": "stdout",
     "output_type": "stream",
     "text": [
      "['Sally', 'Harry']\n",
      "None\n",
      "('Address', 'Ontario')\n",
      "5\n",
      "False\n"
     ]
    },
    {
     "ename": "TypeError",
     "evalue": "unsupported operand type(s) for +: 'dict' and 'str'",
     "output_type": "error",
     "traceback": [
      "\u001b[0;31m---------------------------------------------------------------------------\u001b[0m",
      "\u001b[0;31mTypeError\u001b[0m                                 Traceback (most recent call last)",
      "\u001b[0;32m<ipython-input-14-6549dc96f63a>\u001b[0m in \u001b[0;36m<module>\u001b[0;34m\u001b[0m\n\u001b[1;32m      4\u001b[0m \u001b[0mprint\u001b[0m\u001b[0;34m(\u001b[0m\u001b[0mlen\u001b[0m\u001b[0;34m(\u001b[0m\u001b[0mdict1\u001b[0m\u001b[0;34m[\u001b[0m\u001b[0;34m'Name'\u001b[0m\u001b[0;34m]\u001b[0m\u001b[0;34m)\u001b[0m\u001b[0;34m)\u001b[0m                   \u001b[0;31m#Output4\u001b[0m\u001b[0;34m\u001b[0m\u001b[0;34m\u001b[0m\u001b[0m\n\u001b[1;32m      5\u001b[0m \u001b[0mprint\u001b[0m\u001b[0;34m(\u001b[0m\u001b[0mdict1\u001b[0m\u001b[0;34m[\u001b[0m\u001b[0;34m'Subject'\u001b[0m\u001b[0;34m]\u001b[0m \u001b[0;32mis\u001b[0m \u001b[0mdict3\u001b[0m\u001b[0;34m[\u001b[0m\u001b[0;34m'Subject'\u001b[0m\u001b[0;34m]\u001b[0m\u001b[0;34m)\u001b[0m \u001b[0;31m#Output6\u001b[0m\u001b[0;34m\u001b[0m\u001b[0;34m\u001b[0m\u001b[0m\n\u001b[0;32m----> 6\u001b[0;31m \u001b[0mprint\u001b[0m\u001b[0;34m(\u001b[0m\u001b[0mdict3\u001b[0m\u001b[0;34m[\u001b[0m\u001b[0;34m'Address'\u001b[0m\u001b[0;34m]\u001b[0m \u001b[0;34m+\u001b[0m \u001b[0mdict1\u001b[0m\u001b[0;34m[\u001b[0m\u001b[0;34m'Address'\u001b[0m\u001b[0;34m]\u001b[0m\u001b[0;34m)\u001b[0m  \u001b[0;31m#Output2\u001b[0m\u001b[0;34m\u001b[0m\u001b[0;34m\u001b[0m\u001b[0m\n\u001b[0m",
      "\u001b[0;31mTypeError\u001b[0m: unsupported operand type(s) for +: 'dict' and 'str'"
     ]
    }
   ],
   "source": [
    "print(dict2['Name'])                        #Output3\n",
    "print(dict3.get('Province'))                #Output5\n",
    "print(list(dict1.items())[0])               #Output1\n",
    "print(len(dict1['Name']))                   #Output4\n",
    "print(dict1['Subject'] is dict3['Subject']) #Output6\n",
    "x = 1print(dict3['Address'] + dict1['Address'])  #Output2"
   ]
  },
  {
   "cell_type": "code",
   "execution_count": 132,
   "metadata": {},
   "outputs": [
    {
     "name": "stdout",
     "output_type": "stream",
     "text": [
      "six\n"
     ]
    }
   ],
   "source": [
    "x = 0\n",
    "\n",
    "if x == 1:\n",
    "    print(\"one\")\n",
    "elif x == \"1\":\n",
    "    if int(x) > 1:\n",
    "        print(\"two\")\n",
    "    elif int(x) < 1:\n",
    "        print(\"three\")\n",
    "    else:\n",
    "        print(\"four\")\n",
    "if int(x) == 1:\n",
    "    print(\"five\")\n",
    "else:\n",
    "    print(\"six\")"
   ]
  },
  {
   "cell_type": "code",
   "execution_count": 115,
   "metadata": {},
   "outputs": [
    {
     "name": "stdout",
     "output_type": "stream",
     "text": [
      "Python\n",
      "MySQL\n",
      "R"
     ]
    }
   ],
   "source": [
    "textFile = open(\"ProgLang.txt\", \"w\")\n",
    "textFile.write(\"Python\\nMySQL\\rR\")\n",
    "textFile.close()\n",
    "\n",
    "textFile = open(\"ProgLang.txt\", \"r\")\n",
    "contentsData = textFile.readlines()\n",
    "for i in contentsData:\n",
    "    print(i, end = '')\n",
    "textFile.close()"
   ]
  },
  {
   "cell_type": "code",
   "execution_count": 4,
   "metadata": {},
   "outputs": [],
   "source": [
    "S = \"asdfwe\"\n",
    "L = []\n",
    "T = ()\n",
    "N = 0\n",
    "\n",
    "(S,L)=(L,S)"
   ]
  },
  {
   "cell_type": "code",
   "execution_count": 7,
   "metadata": {},
   "outputs": [
    {
     "name": "stdout",
     "output_type": "stream",
     "text": [
      "33\n",
      "4\n",
      "['I', 'Love', 'Python!']\n"
     ]
    },
    {
     "data": {
      "text/plain": [
       "'Python'"
      ]
     },
     "execution_count": 7,
     "metadata": {},
     "output_type": "execute_result"
    }
   ],
   "source": [
    "my_string = 'I Love  Python!'\n",
    "\n",
    "print(ord(my_string[-1]))\n",
    "print(len((my_string.split()[1])))\n",
    "print(my_string.split())\n",
    "my_string.upper()\n",
    "my_string[-7:-1]"
   ]
  },
  {
   "cell_type": "code",
   "execution_count": 24,
   "metadata": {},
   "outputs": [
    {
     "ename": "KeyError",
     "evalue": "55",
     "output_type": "error",
     "traceback": [
      "\u001b[0;31m---------------------------------------------------------------------------\u001b[0m",
      "\u001b[0;31mKeyError\u001b[0m                                  Traceback (most recent call last)",
      "\u001b[0;32m<ipython-input-24-8c83cbb17fd6>\u001b[0m in \u001b[0;36m<module>\u001b[0;34m\u001b[0m\n\u001b[1;32m      2\u001b[0m \u001b[0ma_dict\u001b[0m\u001b[0;34m[\u001b[0m\u001b[0;34m(\u001b[0m\u001b[0;36m55\u001b[0m\u001b[0;34m,\u001b[0m\u001b[0;36m179\u001b[0m\u001b[0;34m)\u001b[0m\u001b[0;34m]\u001b[0m \u001b[0;34m=\u001b[0m \u001b[0;34m'value'\u001b[0m\u001b[0;34m\u001b[0m\u001b[0;34m\u001b[0m\u001b[0m\n\u001b[1;32m      3\u001b[0m \u001b[0;34m\u001b[0m\u001b[0m\n\u001b[0;32m----> 4\u001b[0;31m \u001b[0ma_dict\u001b[0m\u001b[0;34m[\u001b[0m\u001b[0;34m(\u001b[0m\u001b[0;36m55\u001b[0m\u001b[0;34m)\u001b[0m\u001b[0;34m]\u001b[0m\u001b[0;34m\u001b[0m\u001b[0;34m\u001b[0m\u001b[0m\n\u001b[0m",
      "\u001b[0;31mKeyError\u001b[0m: 55"
     ]
    }
   ],
   "source": [
    "a_dict = {}\n",
    "a_dict[(55,179)] = 'value'\n",
    "\n",
    "a_dict[(55)]"
   ]
  },
  {
   "cell_type": "code",
   "execution_count": 14,
   "metadata": {},
   "outputs": [
    {
     "name": "stdout",
     "output_type": "stream",
     "text": [
      "[1, 2, 3, [10]]\n",
      "[1, 2, 3, [10], 10]\n",
      "[1, 2, 3, [10], 10, 10]\n"
     ]
    }
   ],
   "source": [
    "a = [1,2,3]\n",
    "b = [10]\n",
    "\n",
    "a.append(b)\n",
    "print(a)\n",
    "a.extend(b)\n",
    "print(a)\n",
    "print(a + b)"
   ]
  },
  {
   "cell_type": "code",
   "execution_count": 15,
   "metadata": {},
   "outputs": [
    {
     "ename": "TypeError",
     "evalue": "unhashable type: 'list'",
     "output_type": "error",
     "traceback": [
      "\u001b[0;31m---------------------------------------------------------------------------\u001b[0m",
      "\u001b[0;31mTypeError\u001b[0m                                 Traceback (most recent call last)",
      "\u001b[0;32m<ipython-input-15-c455cc7f4fcf>\u001b[0m in \u001b[0;36m<module>\u001b[0;34m\u001b[0m\n\u001b[0;32m----> 1\u001b[0;31m \u001b[0ma_dict\u001b[0m \u001b[0;34m=\u001b[0m \u001b[0;34m{\u001b[0m\u001b[0;34m[\u001b[0m\u001b[0;36m5\u001b[0m\u001b[0;34m]\u001b[0m\u001b[0;34m:\u001b[0m \u001b[0;36m1\u001b[0m\u001b[0;34m,\u001b[0m \u001b[0;34m[\u001b[0m\u001b[0;36m4\u001b[0m\u001b[0;34m]\u001b[0m \u001b[0;34m:\u001b[0m\u001b[0;36m2\u001b[0m\u001b[0;34m}\u001b[0m\u001b[0;34m\u001b[0m\u001b[0;34m\u001b[0m\u001b[0m\n\u001b[0m",
      "\u001b[0;31mTypeError\u001b[0m: unhashable type: 'list'"
     ]
    }
   ],
   "source": [
    "a_dict = {[5]: 1, [4] :2}"
   ]
  },
  {
   "cell_type": "code",
   "execution_count": 9,
   "metadata": {},
   "outputs": [
    {
     "data": {
      "text/plain": [
       "[1, 2, 3, 2]"
      ]
     },
     "execution_count": 9,
     "metadata": {},
     "output_type": "execute_result"
    }
   ],
   "source": [
    "B = [1,2,3]\n",
    "A = B\n",
    "\n",
    "A.append(2)\n",
    "B"
   ]
  },
  {
   "cell_type": "code",
   "execution_count": null,
   "metadata": {},
   "outputs": [],
   "source": [
    "bitString = \" \"\n",
    "result = 0\n",
    "exponent = len(bitString) -1\n",
    "for bit in bitString:\n",
    "    result = result + int(bit) * 2 ** exponent\n",
    "    exponent = exponent - 1\n",
    "print(\"The integer value is\", result)"
   ]
  },
  {
   "cell_type": "code",
   "execution_count": 127,
   "metadata": {},
   "outputs": [
    {
     "data": {
      "text/plain": [
       "2"
      ]
     },
     "execution_count": 127,
     "metadata": {},
     "output_type": "execute_result"
    }
   ],
   "source": [
    "iStr = uStr = '0,1,2'\n",
    "iList = uList = [0,1,2]\n",
    "iDict = uDict = {'0':2, 'a': 4}\n",
    "iTupl = uTupl = (0,1,2)\n",
    "\n",
    "iStr = iStr + '3'\n",
    "iList.append(3)\n",
    "\n",
    "iTupl = iTupl + (3,)\n",
    "\n",
    "iStr is uStr\n",
    "iList is uList\n",
    "iTupl is uTupl\n",
    "iDict is uDict\n",
    "iDict == uDict\n",
    "\n",
    "len(iDict)"
   ]
  },
  {
   "cell_type": "code",
   "execution_count": 100,
   "metadata": {},
   "outputs": [
    {
     "data": {
      "text/plain": [
       "<function TextIOWrapper.close()>"
      ]
     },
     "execution_count": 100,
     "metadata": {},
     "output_type": "execute_result"
    }
   ],
   "source": [
    "txt = open(\"ProgLang.txt\", \"w\")\n",
    "txt.write(\"Python\\nMySQL\\rR\")\n",
    "txt.close"
   ]
  },
  {
   "cell_type": "code",
   "execution_count": 139,
   "metadata": {},
   "outputs": [
    {
     "name": "stdout",
     "output_type": "stream",
     "text": [
      "You will meet a new friend\n"
     ]
    }
   ],
   "source": [
    "num = 45\n",
    "\n",
    "if num < 5 or num > 50:\n",
    "    print('you will get a treat')\n",
    "elif num == 5 or num < 0:\n",
    "    print( 'You will lose something')\n",
    "elif num < 10 or num > 40:\n",
    "    print('You will meet a new friend')\n",
    "elif num < 20 or num > 60:\n",
    "    print('You will catch a cold')\n",
    "elif num >= 20 and num <= 50:\n",
    "    print('You will ace a test')"
   ]
  }
 ],
 "metadata": {
  "kernelspec": {
   "display_name": "Python 3",
   "language": "python",
   "name": "python3"
  },
  "language_info": {
   "codemirror_mode": {
    "name": "ipython",
    "version": 3
   },
   "file_extension": ".py",
   "mimetype": "text/x-python",
   "name": "python",
   "nbconvert_exporter": "python",
   "pygments_lexer": "ipython3",
   "version": "3.7.6"
  }
 },
 "nbformat": 4,
 "nbformat_minor": 4
}
